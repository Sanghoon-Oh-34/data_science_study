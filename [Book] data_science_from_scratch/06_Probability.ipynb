{
  "nbformat": 4,
  "nbformat_minor": 0,
  "metadata": {
    "colab": {
      "name": "06_Probability.ipynb",
      "provenance": []
    },
    "kernelspec": {
      "name": "python3",
      "display_name": "Python 3"
    },
    "language_info": {
      "name": "python"
    }
  },
  "cells": [
    {
      "cell_type": "markdown",
      "source": [
        "# 밑바닥부터 시작하는 데이터 과학\n",
        "데이터 분석을 위한 파이썬 프로그래밍과 수학통계 기초\n",
        "- - -"
      ],
      "metadata": {
        "id": "HqeT_tWsEr6g"
      }
    },
    {
      "cell_type": "markdown",
      "source": [
        "### 6장. 확률\n",
        "- 확률이란?\n",
        "    - 어떠한 사건의 공간에서 특정 사건이 선택될 때 발생하는 불확실성을 수치적으로 나타내는 것"
      ],
      "metadata": {
        "id": "rDFnILp-FI1Q"
      }
    },
    {
      "cell_type": "markdown",
      "source": [
        "### 6.1 종속성과 독립성\n",
        "- 사건 A의 발생 여부가 사건 B의 발생 여부에 대한 정보를 제공한다면 두 사건 A, B는 종속 사건으로 볼 수 있다.\n",
        "- 그렇지 않다면 독립 사건이다.\n",
        "- 두 사건이 독립 사건일 경우 아래 식이 성립한다.\n",
        "> P(A, B) = P(A) * P(B)"
      ],
      "metadata": {
        "id": "j80t97eWJ-Zy"
      }
    },
    {
      "cell_type": "markdown",
      "source": [
        "### 6.2 조건부 확률\n",
        "- P(B|A) = P(A, B) / P(A)\n",
        "    - P(A, B): A와 B가 동시에 일어날 확률"
      ],
      "metadata": {
        "id": "JYiZMRaqEpAX"
      }
    },
    {
      "cell_type": "code",
      "source": [
        "import random"
      ],
      "metadata": {
        "id": "UGixz7gqD9EB"
      },
      "execution_count": 1,
      "outputs": []
    },
    {
      "cell_type": "code",
      "source": [
        "def random_kid():\n",
        "    return random.choice(['boy', 'girl'])\n",
        "\n",
        "\n",
        "both_girls = 0\n",
        "older_girl = 0\n",
        "either_girl = 0\n",
        "\n",
        "random.seed(0)\n",
        "for _ in range(1000):\n",
        "    younger = random_kid()\n",
        "    older = random_kid()\n",
        "    if older == 'girl':\n",
        "        older_girl += 1\n",
        "    if older == 'girl' and younger == 'girl':\n",
        "        both_girls += 1\n",
        "    if older == 'girl' or younger == 'girl':\n",
        "        either_girl += 1\n",
        "\n",
        "print(\"P(both | older):\", both_girls / older_girl)\n",
        "print(\"P(both | either):\", both_girls / either_girl)"
      ],
      "metadata": {
        "colab": {
          "base_uri": "https://localhost:8080/"
        },
        "id": "0H_gEanVG1p5",
        "outputId": "9ad24226-ea87-41a2-b4c5-f968f5f42613"
      },
      "execution_count": 2,
      "outputs": [
        {
          "output_type": "stream",
          "name": "stdout",
          "text": [
            "P(both | older): 0.4949290060851927\n",
            "P(both | either): 0.32232496697490093\n"
          ]
        }
      ]
    },
    {
      "cell_type": "markdown",
      "source": [
        "### 6.3 베이즈 정리\n",
        "- '확률'을 '주장에 대한 신뢰도'로 해석하는 관점\n",
        "    - 전통적인 빈도주의 관점과 차이가 있음\n",
        "\n",
        "- 다양한 데이터를 통해 사전확률을 계속 갱신해 나가는 것\n",
        "\n",
        "- 참고 영상: https://www.youtube.com/watch?v=Y4ecU7NkiEI>"
      ],
      "metadata": {
        "id": "PTjF6LSaHvy3"
      }
    },
    {
      "cell_type": "markdown",
      "source": [
        "### 6.4 확률변수\n",
        "- 특정 확률분포와 연관되어 있는 변수"
      ],
      "metadata": {
        "id": "B8SPki5dTEpf"
      }
    },
    {
      "cell_type": "markdown",
      "source": [
        "### 6.5 연속 분포"
      ],
      "metadata": {
        "id": "bqnDtRmGTUGF"
      }
    },
    {
      "cell_type": "code",
      "source": [
        "# 균등 분포의 확률밀도함수\n",
        "def uniform_pdf(x):\n",
        "    return 1 if x >= 0 and x < 1 else 0"
      ],
      "metadata": {
        "id": "zhXVbPsyHkcm"
      },
      "execution_count": 3,
      "outputs": []
    },
    {
      "cell_type": "markdown",
      "source": [
        "### 6.6 정규분포"
      ],
      "metadata": {
        "id": "Dg0AmpZ_UnDp"
      }
    },
    {
      "cell_type": "code",
      "source": [
        "import math\n",
        "import matplotlib.pyplot as plt"
      ],
      "metadata": {
        "id": "qFy_olBjUuqB"
      },
      "execution_count": 12,
      "outputs": []
    },
    {
      "cell_type": "code",
      "source": [
        "def normal_pdf(x, mu=0, sigma=1):\n",
        "    sqrt_two_pi = math.sqrt(2 * math.pi)\n",
        "    return (math.exp(-(x-mu) ** 2 / 2 / sigma ** 2) / (sqrt_two_pi * sigma))\n",
        "\n",
        "def plot_normal_pdfs():\n",
        "    xs = [x / 10.0 for x in range(-50, 50)]\n",
        "    plt.plot(xs,[normal_pdf(x,sigma=1) for x in xs],'-',label='mu=0,sigma=1')\n",
        "    plt.plot(xs,[normal_pdf(x,sigma=2) for x in xs],'--',label='mu=0,sigma=2')\n",
        "    plt.plot(xs,[normal_pdf(x,sigma=0.5) for x in xs],':',label='mu=0,sigma=0.5')\n",
        "    plt.plot(xs,[normal_pdf(x,mu=-1)   for x in xs],'-.',label='mu=-1,sigma=1')\n",
        "    plt.legend()\n",
        "    plt.show()"
      ],
      "metadata": {
        "id": "ZIbM1bahUpMN"
      },
      "execution_count": 13,
      "outputs": []
    },
    {
      "cell_type": "code",
      "source": [
        "plot_normal_pdfs()"
      ],
      "metadata": {
        "colab": {
          "base_uri": "https://localhost:8080/",
          "height": 265
        },
        "id": "O_Hge9oDUzRO",
        "outputId": "4a0d68f2-a2fb-448a-ca7f-d776a1967778"
      },
      "execution_count": 14,
      "outputs": [
        {
          "output_type": "display_data",
          "data": {
            "image/png": "[encoded data removed]",
            "text/plain": [
              "<Figure size 432x288 with 1 Axes>"
            ]
          },
          "metadata": {
            "needs_background": "light"
          }
        }
      ]
    },
    {
      "cell_type": "markdown",
      "source": [
        "### 6.7 중심극한정리\n",
        "- 표본 평균의 분포는 정규 분포에 근사하게 된다\n",
        "- 모집단의 모양에 구애받지 않는다."
      ],
      "metadata": {
        "id": "BVqnlmlHXbm6"
      }
    }
  ]
}