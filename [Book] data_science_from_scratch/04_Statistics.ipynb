{
  "nbformat": 4,
  "nbformat_minor": 0,
  "metadata": {
    "colab": {
      "name": "04_Statistics.ipynb",
      "provenance": []
    },
    "kernelspec": {
      "name": "python3",
      "display_name": "Python 3"
    },
    "language_info": {
      "name": "python"
    }
  },
  "cells": [
    {
      "cell_type": "markdown",
      "source": [
        "# 밑바닥부터 시작하는 데이터 과학\n",
        "데이터 분석을 위한 파이썬 프로그래밍과 수학통계 기초\n",
        "- - -"
      ],
      "metadata": {
        "id": "HqeT_tWsEr6g"
      }
    },
    {
      "cell_type": "markdown",
      "source": [
        "## 5장. 통계"
      ],
      "metadata": {
        "id": "rDFnILp-FI1Q"
      }
    },
    {
      "cell_type": "markdown",
      "source": [
        "### 5.1 데이터셋 설명하기"
      ],
      "metadata": {
        "id": "j80t97eWJ-Zy"
      }
    },
    {
      "cell_type": "code",
      "source": [
        "# 모듈 불러오기\n",
        "from collections import Counter\n",
        "import math\n",
        "import numpy as np\n",
        "import matplotlib.pyplot as plt\n",
        "%pylab inline"
      ],
      "metadata": {
        "colab": {
          "base_uri": "https://localhost:8080/"
        },
        "id": "hOS6XnHIG9mB",
        "outputId": "00d0d7f0-10d1-4ae3-d286-0d563c2f03bf"
      },
      "execution_count": 8,
      "outputs": [
        {
          "output_type": "stream",
          "name": "stdout",
          "text": [
            "Populating the interactive namespace from numpy and matplotlib\n"
          ]
        }
      ]
    },
    {
      "cell_type": "code",
      "source": [
        "# 친구 수\n",
        "num_friends = [100,49,41,40,25,21,21,19,19,18,18,16,15,\n",
        "               15,15,15,14,14,13,13,13,13,12,12,11,10,\n",
        "               10,10,10,10,10,10,10,10,10,10,10,10,10,\n",
        "               10,9,9,9,9,9,9,9,9,9,9,9,9,9,9,9,9,9,9,\n",
        "               8,8,8,8,8,8,8,8,8,8,8,8,8,7,7,7,7,7,7,7,\n",
        "               7,7,7,7,7,7,7,7,6,6,6,6,6,6,6,6,6,6,6,6,\n",
        "               6,6,6,6,6,6,6,6,6,6,5,5,5,5,5,5,5,5,5,5,\n",
        "               5,5,5,5,5,5,5,4,4,4,4,4,4,4,4,4,4,4,4,4,\n",
        "               4,4,4,4,4,4,4,3,3,3,3,3,3,3,3,3,3,3,3,3,\n",
        "               3,3,3,3,3,3,3,2,2,2,2,2,2,2,2,2,2,2,2,2,\n",
        "               2,2,2,2,1,1,1,1,1,1,1,1,1,1,1,1,1,1,1,1,\n",
        "               1,1,1,1,1,1]"
      ],
      "metadata": {
        "id": "ZcnLFAv0Hm0Z"
      },
      "execution_count": 3,
      "outputs": []
    },
    {
      "cell_type": "code",
      "source": [
        "friend_counts = Counter(num_friends)\n",
        "print(friend_counts)"
      ],
      "metadata": {
        "colab": {
          "base_uri": "https://localhost:8080/"
        },
        "id": "scWTmTj7IjFo",
        "outputId": "f2066bc7-6bb7-4ae7-c21e-bc9577eea3e0"
      },
      "execution_count": 5,
      "outputs": [
        {
          "output_type": "stream",
          "name": "stdout",
          "text": [
            "Counter({6: 22, 1: 22, 4: 20, 3: 20, 9: 18, 5: 17, 2: 17, 10: 15, 7: 15, 8: 13, 15: 4, 13: 4, 21: 2, 19: 2, 18: 2, 14: 2, 12: 2, 100: 1, 49: 1, 41: 1, 40: 1, 25: 1, 16: 1, 11: 1})\n"
          ]
        }
      ]
    },
    {
      "cell_type": "code",
      "source": [
        "friend_counts[1]"
      ],
      "metadata": {
        "colab": {
          "base_uri": "https://localhost:8080/"
        },
        "id": "DovoiU_dIwIY",
        "outputId": "4fc85945-ee34-4002-d48b-0ea69f09dac9"
      },
      "execution_count": 7,
      "outputs": [
        {
          "output_type": "execute_result",
          "data": {
            "text/plain": [
              "22"
            ]
          },
          "metadata": {},
          "execution_count": 7
        }
      ]
    },
    {
      "cell_type": "code",
      "source": [
        "# 친구 수 히스토그램\n",
        "def make_friend_counts_histogram(plt):\n",
        "    friend_counts = Counter(num_friends)\n",
        "    xs = range(101)\n",
        "    ys = [friend_counts[x] for x in xs]\n",
        "    plt.bar(xs, ys)\n",
        "    plt.axis([0, 101, 0, 25])\n",
        "    plt.title('Histogram of Friend Counts')\n",
        "    plt.xlabel('# of friends')\n",
        "    plt.ylabel('# of people')\n",
        "    plt.show()\n",
        "\n",
        "\n",
        "make_friend_counts_histogram(plt)"
      ],
      "metadata": {
        "colab": {
          "base_uri": "https://localhost:8080/",
          "height": 295
        },
        "id": "KERGk5zRH7ns",
        "outputId": "fbd9394d-e5b2-47fa-f6c5-b2b43e994b22"
      },
      "execution_count": 9,
      "outputs": [
        {
          "output_type": "display_data",
          "data": {
            "image/png": "[encoded data removed]",
            "text/plain": [
              "<Figure size 432x288 with 1 Axes>"
            ]
          },
          "metadata": {
            "needs_background": "light"
          }
        }
      ]
    },
    {
      "cell_type": "code",
      "source": [
        "# 총 몇명의 사람을 대상으로 한 것인가?\n",
        "num_points = len(num_friends)\n",
        "print('대상 인원:', num_points, '명')"
      ],
      "metadata": {
        "colab": {
          "base_uri": "https://localhost:8080/"
        },
        "id": "b2ZYmQkvJUaK",
        "outputId": "40b176d4-e1b4-4eeb-c583-5f788b91e51d"
      },
      "execution_count": 13,
      "outputs": [
        {
          "output_type": "stream",
          "name": "stdout",
          "text": [
            "대상 인원: 204 명\n"
          ]
        }
      ]
    },
    {
      "cell_type": "code",
      "source": [
        "# 친구 수의 최대값과 최소값\n",
        "min_friend = min(num_friends)\n",
        "max_friend = max(num_friends)\n",
        "print('최대 친구 수:', max_friend)\n",
        "print('최소 친구 수:', min_friend)"
      ],
      "metadata": {
        "colab": {
          "base_uri": "https://localhost:8080/"
        },
        "id": "2lG5rr2iJu4H",
        "outputId": "3d77af8c-76a0-4923-e453-4194a1324ad8"
      },
      "execution_count": 14,
      "outputs": [
        {
          "output_type": "stream",
          "name": "stdout",
          "text": [
            "최대 친구 수: 100\n",
            "최소 친구 수: 1\n"
          ]
        }
      ]
    },
    {
      "cell_type": "code",
      "source": [
        "# (정렬을 이용한) 친구 수의 최대값과 최소값 구하기\n",
        "sorted_friends = sorted(num_friends)\n",
        "min_value = sorted_friends[0]\n",
        "max_value = sorted_friends[-1]\n",
        "print('최대 친구 수:', max_value)\n",
        "print('최소 친구 수:', min_value)"
      ],
      "metadata": {
        "colab": {
          "base_uri": "https://localhost:8080/"
        },
        "id": "iUQzrADBKKP0",
        "outputId": "54162a39-e20f-42e8-c69c-1df081ced245"
      },
      "execution_count": 15,
      "outputs": [
        {
          "output_type": "stream",
          "name": "stdout",
          "text": [
            "최대 친구 수: 100\n",
            "최소 친구 수: 1\n"
          ]
        }
      ]
    },
    {
      "cell_type": "markdown",
      "source": [
        "### 5.1.1 중심 경향성\n",
        "- 평균은 이상치에 매우 민감하다. \n",
        "    - 데이터에 대한 잘못된 정보를 줄 수 있다."
      ],
      "metadata": {
        "id": "18lcz_cSKpxN"
      }
    },
    {
      "cell_type": "code",
      "source": [
        "# 평균\n",
        "def mean(x):\n",
        "    return sum(x) / len(x)\n",
        "\n",
        "\n",
        "round(mean(num_friends), 2)"
      ],
      "metadata": {
        "colab": {
          "base_uri": "https://localhost:8080/"
        },
        "id": "Z1Q9z1pSKlYJ",
        "outputId": "478c5056-7f5b-4a8d-d285-df0718c517a1"
      },
      "execution_count": 17,
      "outputs": [
        {
          "output_type": "execute_result",
          "data": {
            "text/plain": [
              "7.33"
            ]
          },
          "metadata": {},
          "execution_count": 17
        }
      ]
    },
    {
      "cell_type": "code",
      "source": [
        "# 중앙값(median)\n",
        "def median(v):\n",
        "    n = len(v)\n",
        "    sorted_v = sorted(v)\n",
        "    midpoint = n // 2\n",
        "\n",
        "    # 데이터의 갯수가 홀수일 경우\n",
        "    if n % 2 == 1:\n",
        "        return sorted_v[midpoint]\n",
        "\n",
        "    # 데이터의 갯수가 짝수일 경우\n",
        "    else:\n",
        "        lo = midpoint - 1\n",
        "        hi = midpoint + 1\n",
        "        return (sorted_v[lo] + sorted_v[hi]) / 2\n",
        "\n",
        "\n",
        "median(num_friends)"
      ],
      "metadata": {
        "colab": {
          "base_uri": "https://localhost:8080/"
        },
        "id": "EnIZSgG6K4Jo",
        "outputId": "7637aa16-283e-4e52-d317-e6de0357829f"
      },
      "execution_count": 18,
      "outputs": [
        {
          "output_type": "execute_result",
          "data": {
            "text/plain": [
              "6.0"
            ]
          },
          "metadata": {},
          "execution_count": 18
        }
      ]
    },
    {
      "cell_type": "code",
      "source": [
        "# 분위\n",
        "def quantile(x, p):\n",
        "    p_index = int(p * len(x))\n",
        "    return sorted(x)[p_index]\n",
        "\n",
        "\n",
        "print(quantile(num_friends, 0.10))\n",
        "print(quantile(num_friends, 0.25))\n",
        "print(quantile(num_friends, 0.75))\n",
        "print(quantile(num_friends, 0.90))"
      ],
      "metadata": {
        "colab": {
          "base_uri": "https://localhost:8080/"
        },
        "id": "RtjOGaosL4sY",
        "outputId": "a9d5bbb3-b73c-4f4b-b48c-10d1ea79ebdd"
      },
      "execution_count": 20,
      "outputs": [
        {
          "output_type": "stream",
          "name": "stdout",
          "text": [
            "1\n",
            "3\n",
            "9\n",
            "13\n"
          ]
        }
      ]
    },
    {
      "cell_type": "code",
      "source": [
        "# 최빈값(최빈값 하나 이상일 경우 리스트로 반환)\n",
        "def mode(x):\n",
        "    counts = Counter(x)\n",
        "    max_count = max(counts.values())\n",
        "    return [x_i for x_i, count in counts.items()\n",
        "            if count == max_count]\n",
        "\n",
        "\n",
        "mode(num_friends)"
      ],
      "metadata": {
        "colab": {
          "base_uri": "https://localhost:8080/"
        },
        "id": "PhgdyFnxMlWD",
        "outputId": "fde39646-c701-4ec8-9178-dd400e2833db"
      },
      "execution_count": 21,
      "outputs": [
        {
          "output_type": "execute_result",
          "data": {
            "text/plain": [
              "[6, 1]"
            ]
          },
          "metadata": {},
          "execution_count": 21
        }
      ]
    },
    {
      "cell_type": "markdown",
      "source": [
        "### 5.1.2 산포도\n",
        "- 데이터가 얼마나 퍼져있는지를 나타낸다.\n",
        "- 보통 0과 근접한 값이면 데이터가 거의 퍼져있지 않다는 의미"
      ],
      "metadata": {
        "id": "61MgQ75TNYms"
      }
    },
    {
      "cell_type": "code",
      "source": [
        "def data_range(x):\n",
        "    return max(x) - min(x)\n",
        "\n",
        "\n",
        "data_range(num_friends)"
      ],
      "metadata": {
        "colab": {
          "base_uri": "https://localhost:8080/"
        },
        "id": "0iqE8gQZNQat",
        "outputId": "27113102-f3bb-459d-89c7-558475940776"
      },
      "execution_count": 22,
      "outputs": [
        {
          "output_type": "execute_result",
          "data": {
            "text/plain": [
              "99"
            ]
          },
          "metadata": {},
          "execution_count": 22
        }
      ]
    },
    {
      "cell_type": "code",
      "source": [
        "# numpy 이용\n",
        "np.max(num_friends) - np.min(num_friends)"
      ],
      "metadata": {
        "colab": {
          "base_uri": "https://localhost:8080/"
        },
        "id": "00BTmm6AODA6",
        "outputId": "6b82f175-cd74-4d29-a74b-08f4c82fb7f1"
      },
      "execution_count": 23,
      "outputs": [
        {
          "output_type": "execute_result",
          "data": {
            "text/plain": [
              "99"
            ]
          },
          "metadata": {},
          "execution_count": 23
        }
      ]
    },
    {
      "cell_type": "code",
      "source": [
        "# 분산(variance)\n",
        "def de_mean(x):\n",
        "    x_bar = mean(x)\n",
        "    return [x_i - x_bar for x_i in x]\n",
        "\n",
        "\n",
        "def variance(x):\n",
        "    n = len(x)\n",
        "    deviations = de_mean(x)\n",
        "    # n -1 로 나누는 이유는 편향(bias)때문에 모분산에 대한 추정값이 실제 모분산보다 작게 계산되는 것을 보정\n",
        "    return sum([i**2 for i in deviations]) / (n - 1)\n",
        "\n",
        "\n",
        "variance(num_friends)"
      ],
      "metadata": {
        "colab": {
          "base_uri": "https://localhost:8080/"
        },
        "id": "jk0KSTb4NrKt",
        "outputId": "d43b1c56-0840-478b-e34e-14b45c6b6e25"
      },
      "execution_count": 26,
      "outputs": [
        {
          "output_type": "execute_result",
          "data": {
            "text/plain": [
              "81.54351395730707"
            ]
          },
          "metadata": {},
          "execution_count": 26
        }
      ]
    },
    {
      "cell_type": "code",
      "source": [
        "# numpy 이용(연산이 더 빠름)\n",
        "np.var(num_friends)"
      ],
      "metadata": {
        "colab": {
          "base_uri": "https://localhost:8080/"
        },
        "id": "BsBasAINRR7_",
        "outputId": "a4028625-1557-4120-a0ac-373a5db307a5"
      },
      "execution_count": 29,
      "outputs": [
        {
          "output_type": "execute_result",
          "data": {
            "text/plain": [
              "81.14379084967321"
            ]
          },
          "metadata": {},
          "execution_count": 29
        }
      ]
    },
    {
      "cell_type": "code",
      "source": [
        "# 표준편차(standard deviation)\n",
        "def standard_deviation(x):\n",
        "    return math.sqrt(variance(x))\n",
        "\n",
        "\n",
        "standard_deviation(num_friends)"
      ],
      "metadata": {
        "colab": {
          "base_uri": "https://localhost:8080/"
        },
        "id": "v6bQb4JzPUwn",
        "outputId": "e8a851e0-fd09-4bd1-a6f1-565bb7a9b0a3"
      },
      "execution_count": 27,
      "outputs": [
        {
          "output_type": "execute_result",
          "data": {
            "text/plain": [
              "9.030144736232474"
            ]
          },
          "metadata": {},
          "execution_count": 27
        }
      ]
    },
    {
      "cell_type": "markdown",
      "source": [
        "- 표준편차 또한 평균처럼 이상치에 민감할 수 있다\n",
        "    - (이상치 영향 제거)상위 25% 값과 하위 25% 값의 차이를 계산"
      ],
      "metadata": {
        "id": "OBNNcDfOQbEi"
      }
    },
    {
      "cell_type": "code",
      "source": [
        "# 상위 25%의 값과 하위 25% 값의 차이 계산\n",
        "def interquartile_range(x):\n",
        "    return quantile(x, 0.75) - quantile(x, 0.25)\n",
        "\n",
        "\n",
        "interquartile_range(num_friends)"
      ],
      "metadata": {
        "colab": {
          "base_uri": "https://localhost:8080/"
        },
        "id": "hmtvyYzLQU9z",
        "outputId": "59bf8cc3-4327-4473-fc7a-2854c5d13360"
      },
      "execution_count": 28,
      "outputs": [
        {
          "output_type": "execute_result",
          "data": {
            "text/plain": [
              "6"
            ]
          },
          "metadata": {},
          "execution_count": 28
        }
      ]
    },
    {
      "cell_type": "markdown",
      "source": [
        "### 5.2 상관관계"
      ],
      "metadata": {
        "id": "1mbRdCSzQ-T4"
      }
    },
    {
      "cell_type": "code",
      "source": [
        "daily_minutes = [1,68.77,51.25,52.08,38.36,44.54,\n",
        "                 57.13,51.4,41.42,31.22,34.76,54.01,\n",
        "                 38.79,47.59,49.1,27.66,41.03,36.73,\n",
        "                 48.65,28.12,46.62,35.57,32.98,35,26.07,\n",
        "                 23.77,39.73,40.57,31.65,31.21,36.32,\n",
        "                 20.45,21.93,26.02,27.34,23.49,46.94,\n",
        "                 30.5,33.8,24.23,21.4,27.94,32.24,40.57,\n",
        "                 25.07,19.42,22.39,18.42,46.96,23.72,26.41,\n",
        "                 26.97,36.76,40.32,35.02,29.47,30.2,31,\n",
        "                 38.11,38.18,36.31,21.03,30.86,36.07,28.66,\n",
        "                 29.08,37.28,15.28,24.17,22.31,30.17,25.53,\n",
        "                 19.85,35.37,44.6,17.23,13.47,26.33,35.02,\n",
        "                 32.09,24.81,19.33,28.77,24.26,31.98,25.73,\n",
        "                 24.86,16.28,34.51,15.23,39.72,40.8,26.06,\n",
        "                 35.76,34.76,16.13,44.04,18.03,19.65,32.62,\n",
        "                 35.59,39.43,14.18,35.24,40.13,41.82,35.45,\n",
        "                 36.07,43.67,24.61,20.9,21.9,18.79,27.61,\n",
        "                 27.21,26.61,29.77,20.59,27.53,13.82,33.2,\n",
        "                 25,33.1,36.65,18.63,14.87,22.2,36.81,25.53,\n",
        "                 24.62,26.25,18.21,28.08,19.42,29.79,32.8,\n",
        "                 35.99,28.32,27.79,35.88,29.06,36.28,14.1,\n",
        "                 36.63,37.49,26.9,18.58,38.48,24.48,18.95,33.55,\n",
        "                 14.24,29.04,32.51,25.63,22.22,19,32.73,15.16,\n",
        "                 13.9,27.2,32.01,29.27,33,13.74,20.42,27.32,\n",
        "                 18.23,35.35,28.48,9.08,24.62,20.12,35.26,19.92,\n",
        "                 31.02,16.49,12.16,30.7,31.22,34.65,13.13,27.51,\n",
        "                 33.2,31.57,14.1,33.42,17.44,10.12,24.42,9.82,\n",
        "                 23.39,30.93,15.03,21.67,31.09,33.29,22.61,\n",
        "                 26.89,23.48,8.38,27.81,32.35,23.84]"
      ],
      "metadata": {
        "id": "zmKpL6uGRetO"
      },
      "execution_count": 30,
      "outputs": []
    },
    {
      "cell_type": "code",
      "source": [
        "# 공분산(numpy 이용)\n",
        "np.cov(num_friends, daily_minutes)"
      ],
      "metadata": {
        "colab": {
          "base_uri": "https://localhost:8080/"
        },
        "id": "3aKGISj-Q8ay",
        "outputId": "63fe049c-be0f-47d5-fe28-2b5ba211726b"
      },
      "execution_count": 31,
      "outputs": [
        {
          "output_type": "execute_result",
          "data": {
            "text/plain": [
              "array([[ 81.54351396,  22.42543514],\n",
              "       [ 22.42543514, 100.78589895]])"
            ]
          },
          "metadata": {},
          "execution_count": 31
        }
      ]
    },
    {
      "cell_type": "code",
      "source": [
        "# 상관관계\n",
        "def correlation(x, y):\n",
        "    stdev_x = standard_deviation(x)\n",
        "    stdev_y = standard_deviation(y)\n",
        "    if stdev_x > 0 and stdev_y > 0:\n",
        "        return np.cov(x, y) / stdev_x / stdev_y\n",
        "    else:\n",
        "        return 0\n",
        "\n",
        "\n",
        "correlation(num_friends, daily_minutes)[0][1]"
      ],
      "metadata": {
        "colab": {
          "base_uri": "https://localhost:8080/"
        },
        "id": "6Cak8NqHSLM-",
        "outputId": "e73fd2df-113e-4928-8449-b808ad190ed5"
      },
      "execution_count": 34,
      "outputs": [
        {
          "output_type": "execute_result",
          "data": {
            "text/plain": [
              "0.24736957366478207"
            ]
          },
          "metadata": {},
          "execution_count": 34
        }
      ]
    },
    {
      "cell_type": "code",
      "source": [
        "# numpy 이용\n",
        "np.corrcoef(num_friends, daily_minutes)"
      ],
      "metadata": {
        "colab": {
          "base_uri": "https://localhost:8080/"
        },
        "id": "F4b2dwWuS9sf",
        "outputId": "3f784942-18e8-49e3-a5bc-18ee0b9c5bc5"
      },
      "execution_count": 35,
      "outputs": [
        {
          "output_type": "execute_result",
          "data": {
            "text/plain": [
              "array([[1.        , 0.24736957],\n",
              "       [0.24736957, 1.        ]])"
            ]
          },
          "metadata": {},
          "execution_count": 35
        }
      ]
    },
    {
      "cell_type": "code",
      "source": [
        "plt.plot(num_friends, daily_minutes, 'ro')\n",
        "plt.axis([0, max(num_friends) + 10, 0, max(daily_minutes) + 10])\n",
        "plt.show()"
      ],
      "metadata": {
        "colab": {
          "base_uri": "https://localhost:8080/",
          "height": 265
        },
        "id": "ir5DyD1VWfed",
        "outputId": "9b565bf4-092e-45d1-c64e-45023186c984"
      },
      "execution_count": 36,
      "outputs": [
        {
          "output_type": "display_data",
          "data": {
            "image/png": "[encoded data removed]",
            "text/plain": [
              "<Figure size 432x288 with 1 Axes>"
            ]
          },
          "metadata": {
            "needs_background": "light"
          }
        }
      ]
    },
    {
      "cell_type": "code",
      "source": [
        "# 이상치 제거 후 상관관계\n",
        "outlier = num_friends.index(100)\n",
        "num_friends_good = [x for i, x in enumerate(num_friends)\n",
        "                    if i != outlier]\n",
        "daily_minutes_good = [x for i, x in enumerate(daily_minutes)\n",
        "                if i != outlier]\n",
        "\n",
        "correlation(num_friends_good, daily_minutes_good)[0][1]"
      ],
      "metadata": {
        "colab": {
          "base_uri": "https://localhost:8080/"
        },
        "id": "ENzRD3R2W0a9",
        "outputId": "4f2ff9d7-3c0c-41e7-c846-68eb082bfe3c"
      },
      "execution_count": 37,
      "outputs": [
        {
          "output_type": "execute_result",
          "data": {
            "text/plain": [
              "0.5736792115665598"
            ]
          },
          "metadata": {},
          "execution_count": 37
        }
      ]
    },
    {
      "cell_type": "code",
      "source": [
        "plt.plot(num_friends, daily_minutes, 'ro')\n",
        "plt.axis([0, max(num_friends_good) + 10, 0, max(daily_minutes_good) + 10])\n",
        "plt.show()"
      ],
      "metadata": {
        "colab": {
          "base_uri": "https://localhost:8080/",
          "height": 265
        },
        "id": "s49eYrxmXjAR",
        "outputId": "52f273f1-e1c5-46a7-dcd2-5b5609140882"
      },
      "execution_count": 38,
      "outputs": [
        {
          "output_type": "display_data",
          "data": {
            "image/png": "[encoded data removed]",
            "text/plain": [
              "<Figure size 432x288 with 1 Axes>"
            ]
          },
          "metadata": {
            "needs_background": "light"
          }
        }
      ]
    },
    {
      "cell_type": "markdown",
      "source": [
        "### 5.3 심슨의 역설\n",
        "- 전체 데이터 비교 시 경향과 세부 데이터 비교 시 경향이 다른 결과를 보이는 것\n",
        "- 항상 숲과 나무를 동시에 파악하고 분석하는 습관을 기르자"
      ],
      "metadata": {
        "id": "jI_PRpADXsJD"
      }
    },
    {
      "cell_type": "markdown",
      "source": [
        "### 5.5 상관관계와 인과관계\n",
        "- \"상관관계가 인과관계를 의미하지 않는다\"\n",
        "- 인과관계를 확인해 보는 방법에는 무작위 선택하여 두 그룹에 다른 요인을 적용해보자"
      ],
      "metadata": {
        "id": "RymEZubqYp5n"
      }
    }
  ]
}