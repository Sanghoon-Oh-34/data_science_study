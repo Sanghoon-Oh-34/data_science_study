{
 "cells": [
  {
   "cell_type": "markdown",
   "id": "34126b2a-9774-4a03-888d-2c18a8725d8d",
   "metadata": {},
   "source": [
    "# 밑바닥부터 시작하는 데이터 과학 \n",
    "데이터 분석을 위한 파이썬 프로그래밍과 수학·통계 기초\n",
    "- - -\n",
    "*직접 타이핑을 진행하면서 기초부터 차근차근 쌓아가자!*"
   ]
  },
  {
   "cell_type": "markdown",
   "id": "00935afd-3a70-4ed7-a660-b0b9c44fcbb5",
   "metadata": {},
   "source": [
    "## 1장 들어가기\n",
    "### 1.3 동기부여를 위한 상상: 데이터 주식회사"
   ]
  },
  {
   "cell_type": "code",
   "execution_count": 1,
   "id": "2561b695-33b5-4c64-b8ba-806c81ab7053",
   "metadata": {},
   "outputs": [],
   "source": [
    "# 딕셔너리를 품은 사용자 리스트\n",
    "users = [\n",
    "    {'id': 0, 'name': 'Hero'},\n",
    "    {'id': 1, 'name': 'Dunn'},\n",
    "    {'id': 2, 'name': 'Sue'},\n",
    "    {'id': 3, 'name': 'Chi'},\n",
    "    {'id': 4, 'name': 'Thor'},\n",
    "    {'id': 5, 'name': 'Clive'},\n",
    "    {'id': 6, 'name': 'Hicks'},\n",
    "    {'id': 7, 'name': 'Devin'},\n",
    "    {'id': 8, 'name': 'Kate'},\n",
    "    {'id': 9, 'name': 'Klein'}\n",
    "]"
   ]
  },
  {
   "cell_type": "code",
   "execution_count": 2,
   "id": "00ba9254-9e17-4e74-89ba-bfc888c100f5",
   "metadata": {},
   "outputs": [],
   "source": [
    "# 친구관계\n",
    "friendships = [(0, 1), (0, 2), (1, 2), (1, 3), (2, 3), (3, 4),\n",
    "               (4, 5), (5, 6), (5, 7), (6, 8), (7, 8), (8, 9)]"
   ]
  },
  {
   "cell_type": "code",
   "execution_count": 3,
   "id": "59ebe260-1e1b-4442-b77d-c9b87ea01e3d",
   "metadata": {},
   "outputs": [
    {
     "data": {
      "text/plain": [
       "[{'id': 0, 'name': 'Hero', 'friends': []},\n",
       " {'id': 1, 'name': 'Dunn', 'friends': []},\n",
       " {'id': 2, 'name': 'Sue', 'friends': []},\n",
       " {'id': 3, 'name': 'Chi', 'friends': []},\n",
       " {'id': 4, 'name': 'Thor', 'friends': []},\n",
       " {'id': 5, 'name': 'Clive', 'friends': []},\n",
       " {'id': 6, 'name': 'Hicks', 'friends': []},\n",
       " {'id': 7, 'name': 'Devin', 'friends': []},\n",
       " {'id': 8, 'name': 'Kate', 'friends': []},\n",
       " {'id': 9, 'name': 'Klein', 'friends': []}]"
      ]
     },
     "execution_count": 3,
     "metadata": {},
     "output_type": "execute_result"
    }
   ],
   "source": [
    "# 사용자의 친구목록(빈 리스트) 추가\n",
    "for user in users:\n",
    "    user['friends'] = []\n",
    "\n",
    "users"
   ]
  },
  {
   "cell_type": "code",
   "execution_count": 4,
   "id": "cf51d130-f88e-4147-9b99-b91db54f3d77",
   "metadata": {},
   "outputs": [],
   "source": [
    "# 친구목록에 친구 추가\n",
    "for i, j in friendships:\n",
    "    users[i]['friends'].append(users[j])\n",
    "    users[j]['friends'].append(users[i])"
   ]
  },
  {
   "cell_type": "markdown",
   "id": "0582d6f7-648b-4e54-98e7-ec3b50ebee69",
   "metadata": {},
   "source": [
    "* 질문: 네트워크 상에서 각 사용자의 평균 연결 수는 몇일까?\n",
    "    1. 전체 연결 수 구하기\n",
    "    2. 사용자 수로 나누기"
   ]
  },
  {
   "cell_type": "code",
   "execution_count": 5,
   "id": "19d59ad7-49f5-45d4-ab90-242d05d27d90",
   "metadata": {},
   "outputs": [
    {
     "data": {
      "text/plain": [
       "24"
      ]
     },
     "execution_count": 5,
     "metadata": {},
     "output_type": "execute_result"
    }
   ],
   "source": [
    "# 1. 먼저 전체 연결 수를 구하자\n",
    "\n",
    "# 친구목록의 길이를 반환해주는 함수 작성\n",
    "def number_of_friends(user):\n",
    "    return len(user['friends'])\n",
    "\n",
    "# 친구 목록의 길이 = 연결 수\n",
    "# 각 사용자별 친구 목록의 길이의 합 구하기 = 전체 연결 수\n",
    "total_connections = sum(number_of_friends(user) for user in users)\n",
    "total_connections"
   ]
  },
  {
   "cell_type": "code",
   "execution_count": 6,
   "id": "934702d0-283d-4503-a25c-a5127d4be0da",
   "metadata": {},
   "outputs": [
    {
     "data": {
      "text/plain": [
       "2.4"
      ]
     },
     "execution_count": 6,
     "metadata": {},
     "output_type": "execute_result"
    }
   ],
   "source": [
    "# 2. 사용자 수로 나누기(평균)\n",
    "avg_connections = total_connections / len(users)\n",
    "avg_connections"
   ]
  },
  {
   "cell_type": "markdown",
   "id": "96cc7d4d-9a79-4860-a278-6a50bff5a909",
   "metadata": {},
   "source": [
    "* 질문: 친구가 가장 많은 사람은 누구인가?(연결 수가 많은 사람)"
   ]
  },
  {
   "cell_type": "code",
   "execution_count": 7,
   "id": "fcc14a7d-3dbf-4a0e-90a5-c50dd605b777",
   "metadata": {},
   "outputs": [
    {
     "data": {
      "text/plain": [
       "[(0, 2),\n",
       " (1, 3),\n",
       " (2, 3),\n",
       " (3, 3),\n",
       " (4, 2),\n",
       " (5, 3),\n",
       " (6, 2),\n",
       " (7, 2),\n",
       " (8, 3),\n",
       " (9, 1)]"
      ]
     },
     "execution_count": 7,
     "metadata": {},
     "output_type": "execute_result"
    }
   ],
   "source": [
    "# (user_id, number_of_friends)로 구성된 list 생성\n",
    "num_friends_by_id = [(user['id'], number_of_friends(user)) for user in users]\n",
    "num_friends_by_id"
   ]
  },
  {
   "cell_type": "code",
   "execution_count": 8,
   "id": "a0651522-ebe3-4ad5-af92-cd312d71dbb0",
   "metadata": {},
   "outputs": [
    {
     "data": {
      "text/plain": [
       "[(1, 3),\n",
       " (2, 3),\n",
       " (3, 3),\n",
       " (5, 3),\n",
       " (8, 3),\n",
       " (0, 2),\n",
       " (4, 2),\n",
       " (6, 2),\n",
       " (7, 2),\n",
       " (9, 1)]"
      ]
     },
     "execution_count": 8,
     "metadata": {},
     "output_type": "execute_result"
    }
   ],
   "source": [
    "#친구의 숫자에 따라 내림차순으로 정렬하기\n",
    "sorted(num_friends_by_id,\n",
    "       key=lambda x: x[1],\n",
    "       reverse=True)"
   ]
  },
  {
   "cell_type": "markdown",
   "id": "ed9ee211-8af7-4ca7-b6fa-59fd37d49e39",
   "metadata": {},
   "source": [
    "### 1.3.2 데이터 과학자 추천하기"
   ]
  },
  {
   "cell_type": "markdown",
   "id": "314b1500-f570-4e49-9d08-0b08da371be6",
   "metadata": {},
   "source": [
    "- 친구 추천 기능 구현하기"
   ]
  },
  {
   "cell_type": "code",
   "execution_count": 9,
   "id": "f5b6513d-1619-4e42-9edf-8becbaaeac3f",
   "metadata": {},
   "outputs": [],
   "source": [
    "# 사용자 친구의 친구를 반환하는 함수\n",
    "def friends_of_friend_ids_bad(user):\n",
    "    return [foaf['id']\n",
    "            for friend in user['friends']\n",
    "                for foaf in friend['friends']]"
   ]
  },
  {
   "cell_type": "code",
   "execution_count": 10,
   "id": "419acebf-c4a8-45fd-a887-be36ca20194b",
   "metadata": {},
   "outputs": [
    {
     "data": {
      "text/plain": [
       "[0, 2, 3, 0, 1, 3]"
      ]
     },
     "execution_count": 10,
     "metadata": {},
     "output_type": "execute_result"
    }
   ],
   "source": [
    "friends_of_friend_ids_bad(users[0])"
   ]
  },
  {
   "cell_type": "code",
   "execution_count": 13,
   "id": "b59a9a2e-ef30-4b4e-b28a-61fccb1067fd",
   "metadata": {},
   "outputs": [
    {
     "name": "stdout",
     "output_type": "stream",
     "text": [
      "Counter({0: 2, 5: 1})\n"
     ]
    }
   ],
   "source": [
    "# 서로가 함께 아는 친구 수를 구하는 함수(사용자가 이미 아는 사람은 제외)\n",
    "from collections import Counter\n",
    "\n",
    "def not_the_same(user, other_user):\n",
    "    \"\"\" 만약 두 사용자의 id가 다르면 다른 사용자로 인식 \"\"\"\n",
    "    return user['id'] != other_user['id']\n",
    "\n",
    "def not_friends(user, other_user):\n",
    "    \"\"\" 만약 other_user가 user['friends']에 포함되지 않으면\n",
    "    친구가 아닌 것으로 간주함.\n",
    "    즉, other_user를 not_the_same 함수를 사용해서\n",
    "    user['friends']에 포함된 사람과 다르다고 인식 \"\"\"\n",
    "    return all(not_the_same(friend, other_user)\n",
    "               for friend in user['friends'])\n",
    "\n",
    "def friends_of_friend_ids(user):\n",
    "    return Counter(foaf['id']\n",
    "                   for friend in user['friends']\n",
    "                       for foaf in friend['friends']\n",
    "                           if not_the_same(user, foaf)\n",
    "                               and not_friends(user, foaf))\n",
    "\n",
    "print(friends_of_friend_ids(users[3]))"
   ]
  },
  {
   "cell_type": "code",
   "execution_count": 15,
   "id": "8ffa2bdd-55c2-42ad-b5c6-5bcb4c9e8a5f",
   "metadata": {},
   "outputs": [],
   "source": [
    "# 사용자 id와 관심사가 담긴 리스트\n",
    "interests = [\n",
    "    (0, 'Hadoop'), (0, 'Big Data'), (0, 'HBase'), (0, 'Java'),\n",
    "    (0, 'Spark'), (0, 'Storm'), (0, 'Cassandra'), (1, 'NoSQL'),\n",
    "    (1, 'MongoDB'), (1, 'Cassandra'), (1, 'HBase'),\n",
    "    (1, 'Postgres'), (2, 'Python'), (2, 'scikit-learn'),\n",
    "    (2, 'scipy'), (2, 'numpy'), (2, 'statsmodels'),\n",
    "    (2, 'pandas'), (3, 'R'), (3, 'Python'), (3, 'statistics'),\n",
    "    (3, 'regression'), (3, 'probability'), (4, 'machine learning'),\n",
    "    (4, 'regression'), (4, 'decision trees'), (4, 'libsvm'),\n",
    "    (5, 'Python'), (5, 'R'), (5, 'Java'), (5, 'C++'),\n",
    "    (5, 'Haskell'), (5, 'programming languages'),\n",
    "    (6, 'statistics'), (6, 'probability'), (6, 'mathematics'),\n",
    "    (6, 'theory'), (7, 'machine learning'), (7, 'scikit-learn'),\n",
    "    (7, 'Mahout'), (7, 'neural networks'), (8, 'neural networks'),\n",
    "    (8, 'deep learning'), (8, 'Big Data'),\n",
    "    (8, 'artificial intelligence'), (9, 'Hadoop'), (9, 'Java'),\n",
    "    (9, 'MapReduce'), (9, 'Big Data')]"
   ]
  },
  {
   "cell_type": "code",
   "execution_count": 16,
   "id": "2701236d-7f66-4c06-85ae-affb731e8df5",
   "metadata": {},
   "outputs": [
    {
     "data": {
      "text/plain": [
       "[0, 8, 9]"
      ]
     },
     "execution_count": 16,
     "metadata": {},
     "output_type": "execute_result"
    }
   ],
   "source": [
    "# 특정 관심사를 공유하는 사람들 찾는 함수\n",
    "def data_scientists_who_like(target_interest):\n",
    "    return [user_id\n",
    "            for user_id, user_interest in interests\n",
    "                if user_interest == target_interest]\n",
    "\n",
    "data_scientists_who_like('Big Data')"
   ]
  },
  {
   "cell_type": "code",
   "execution_count": 17,
   "id": "4f48ea59-0ded-4f10-9387-34ba8987410f",
   "metadata": {},
   "outputs": [
    {
     "name": "stdout",
     "output_type": "stream",
     "text": [
      "defaultdict(<class 'list'>, {'Hadoop': [0, 9], 'Big Data': [0, 8, 9], 'HBase': [0, 1], 'Java': [0, 5, 9], 'Spark': [0], 'Storm': [0], 'Cassandra': [0, 1], 'NoSQL': [1], 'MongoDB': [1], 'Postgres': [1], 'Python': [2, 3, 5], 'scikit-learn': [2, 7], 'scipy': [2], 'numpy': [2], 'statsmodels': [2], 'pandas': [2], 'R': [3, 5], 'statistics': [3, 6], 'regression': [3, 4], 'probability': [3, 6], 'machine learning': [4, 7], 'decision trees': [4], 'libsvm': [4], 'C++': [5], 'Haskell': [5], 'programming languages': [5], 'mathematics': [6], 'theory': [6], 'Mahout': [7], 'neural networks': [7, 8], 'deep learning': [8], 'artificial intelligence': [8], 'MapReduce': [9]})\n"
     ]
    }
   ],
   "source": [
    "# 앞서 만든 코드는 처음부터 끝까지 모든 데이터를 훑기 때문에 비효율적\n",
    "\n",
    "# 각 관심사에 대한 인덱스 만들기\n",
    "from collections import defaultdict\n",
    "\n",
    "# key가 관심사, value가 id\n",
    "user_ids_by_interest = defaultdict(list)\n",
    "\n",
    "for user_id, user_interest in interests:\n",
    "    user_ids_by_interest[user_interest].append(user_id)\n",
    "    \n",
    "print(user_ids_by_interest)"
   ]
  },
  {
   "cell_type": "code",
   "execution_count": 19,
   "id": "46ea3b67-7cc0-4874-8dc1-797862fa8427",
   "metadata": {},
   "outputs": [
    {
     "name": "stdout",
     "output_type": "stream",
     "text": [
      "defaultdict(<class 'list'>, {0: ['Hadoop', 'Big Data', 'HBase', 'Java', 'Spark', 'Storm', 'Cassandra'], 1: ['NoSQL', 'MongoDB', 'Cassandra', 'HBase', 'Postgres'], 2: ['Python', 'scikit-learn', 'scipy', 'numpy', 'statsmodels', 'pandas'], 3: ['R', 'Python', 'statistics', 'regression', 'probability'], 4: ['machine learning', 'regression', 'decision trees', 'libsvm'], 5: ['Python', 'R', 'Java', 'C++', 'Haskell', 'programming languages'], 6: ['statistics', 'probability', 'mathematics', 'theory'], 7: ['machine learning', 'scikit-learn', 'Mahout', 'neural networks'], 8: ['neural networks', 'deep learning', 'Big Data', 'artificial intelligence'], 9: ['Hadoop', 'Java', 'MapReduce', 'Big Data']})\n"
     ]
    }
   ],
   "source": [
    "# 각 사용자에 대한 관심사 만들기\n",
    "interest_ids_by_user = defaultdict(list)\n",
    "\n",
    "for user_id, user_interest in interests:\n",
    "    interest_ids_by_user[user_id].append(user_interest)\n",
    "    \n",
    "print(interest_ids_by_user)"
   ]
  },
  {
   "cell_type": "code",
   "execution_count": 21,
   "id": "0ea4354a-ad4f-4ba8-87a0-048042799ef8",
   "metadata": {},
   "outputs": [
    {
     "data": {
      "text/plain": [
       "Counter({2: 6, 3: 1, 5: 1, 7: 1})"
      ]
     },
     "execution_count": 21,
     "metadata": {},
     "output_type": "execute_result"
    }
   ],
   "source": [
    "# 사용자가 주어졌을 때, 유사한 관심사를 가진 사용자를 찾는 함수\n",
    "def most_common_interests_with(user_id):\n",
    "    return Counter(interested_user_id\n",
    "                   for interest in interest_ids_by_user[user_id]\n",
    "                       for interested_user_id in user_ids_by_interest[interest]\n",
    "                           if interested_user_id != user['id'])\n",
    "\n",
    "most_common_interests_with(2)"
   ]
  },
  {
   "cell_type": "markdown",
   "id": "0727ee6a-5485-4091-92d5-438f25a47870",
   "metadata": {},
   "source": [
    "### 1.3.3 연봉과 경력"
   ]
  },
  {
   "cell_type": "code",
   "execution_count": 34,
   "id": "1174417d-95e9-44d9-9806-98a9e6c8b125",
   "metadata": {},
   "outputs": [],
   "source": [
    "# 사용자의 연봉과 근속기간 데이터\n",
    "salaries_and_tenures = [(83000, 8.7), (88000, 8.1),\n",
    "                        (48000, 0.7), (76000, 6),\n",
    "                        (69000, 6.5), (76000, 7.5),\n",
    "                        (60000, 2.5), (83000, 10),\n",
    "                        (48000, 1.9), (63000, 4.2)]"
   ]
  },
  {
   "cell_type": "code",
   "execution_count": 35,
   "id": "7897af8a-6059-4cf7-af24-a7baf78fff77",
   "metadata": {},
   "outputs": [
    {
     "data": {
      "text/plain": [
       "defaultdict(list,\n",
       "            {8.7: [83000],\n",
       "             8.1: [88000],\n",
       "             0.7: [48000],\n",
       "             6: [76000],\n",
       "             6.5: [69000],\n",
       "             7.5: [76000],\n",
       "             2.5: [60000],\n",
       "             10: [83000],\n",
       "             1.9: [48000],\n",
       "             4.2: [63000]})"
      ]
     },
     "execution_count": 35,
     "metadata": {},
     "output_type": "execute_result"
    }
   ],
   "source": [
    "# key는 근속 연수, value는 근속 연수에 대한 연봉 목록\n",
    "salary_by_tenure = defaultdict(list)\n",
    "\n",
    "for salary, tenure in salaries_and_tenures:\n",
    "    salary_by_tenure[tenure].append(salary)\n",
    "\n",
    "salary_by_tenure"
   ]
  },
  {
   "cell_type": "code",
   "execution_count": 36,
   "id": "731449ba-f1b9-4b62-8fde-2369c691f50f",
   "metadata": {},
   "outputs": [
    {
     "data": {
      "text/plain": [
       "{8.7: 83000.0,\n",
       " 8.1: 88000.0,\n",
       " 0.7: 48000.0,\n",
       " 6: 76000.0,\n",
       " 6.5: 69000.0,\n",
       " 7.5: 76000.0,\n",
       " 2.5: 60000.0,\n",
       " 10: 83000.0,\n",
       " 1.9: 48000.0,\n",
       " 4.2: 63000.0}"
      ]
     },
     "execution_count": 36,
     "metadata": {},
     "output_type": "execute_result"
    }
   ],
   "source": [
    "# key는 근속연수, value는 근속 연수의 평균 연봉\n",
    "average_salary_by_tenure = {\n",
    "    tenure : sum(salaries) / len(salaries)\n",
    "        for tenure, salaries in salary_by_tenure.items()\n",
    "}\n",
    "\n",
    "average_salary_by_tenure"
   ]
  },
  {
   "cell_type": "code",
   "execution_count": 37,
   "id": "b5b26eb5-6835-49f1-abdc-33b8afe50090",
   "metadata": {},
   "outputs": [],
   "source": [
    "# 근속 연수를 구간으로 나누어 구하자\n",
    "def tenure_bucket(tenure):\n",
    "    if tenure < 2:\n",
    "        return 'less than two'\n",
    "    elif tenure < 5:\n",
    "        return 'between two and five'\n",
    "    else:\n",
    "        return 'more than five'"
   ]
  },
  {
   "cell_type": "code",
   "execution_count": 38,
   "id": "b5751aa6-9827-4844-80d3-f8a93bbf5cb6",
   "metadata": {},
   "outputs": [
    {
     "data": {
      "text/plain": [
       "defaultdict(list,\n",
       "            {'more than five': [83000, 88000, 76000, 69000, 76000, 83000],\n",
       "             'less than two': [48000, 48000],\n",
       "             'between two and five': [60000, 63000]})"
      ]
     },
     "execution_count": 38,
     "metadata": {},
     "output_type": "execute_result"
    }
   ],
   "source": [
    "salary_by_tenure_bucket = defaultdict(list)\n",
    "\n",
    "for salary, tenure in salaries_and_tenures:\n",
    "    bucket = tenure_bucket(tenure)\n",
    "    salary_by_tenure_bucket[bucket].append(salary)\n",
    "\n",
    "salary_by_tenure_bucket"
   ]
  },
  {
   "cell_type": "code",
   "execution_count": 39,
   "id": "062a0c3e-2262-460c-8f03-87a9f6b42bbd",
   "metadata": {},
   "outputs": [
    {
     "data": {
      "text/plain": [
       "{'more than five': 79166.66666666667,\n",
       " 'less than two': 48000.0,\n",
       " 'between two and five': 61500.0}"
      ]
     },
     "execution_count": 39,
     "metadata": {},
     "output_type": "execute_result"
    }
   ],
   "source": [
    "# 각 구간의 평균 연봉\n",
    "average_salary_by_bucket = {\n",
    "    tenure_bucket : sum(salaries) / len(salaries)\n",
    "        for tenure_bucket, salaries in salary_by_tenure_bucket.items()\n",
    "}\n",
    "\n",
    "average_salary_by_bucket"
   ]
  },
  {
   "cell_type": "markdown",
   "id": "26c2cd14-15ca-47be-806f-b6216b3a01ba",
   "metadata": {},
   "source": [
    "### 1.3.5 관심 주제\n",
    "- 사용자들이 주로 어떤 관심사를 가지고 있는지 확인하기(기존 interests 활용)\n",
    "    1. 모든 관심사를 소문자로 변환한다(대문자, 소문자가 섞여 있을 때)\n",
    "    2. 모든 관심사를 단어 기준으로 쪼갠다.\n",
    "    3. 각 단어의 수를 센다"
   ]
  },
  {
   "cell_type": "code",
   "execution_count": 40,
   "id": "b867efa5-4aeb-4b8a-a4f1-3d1ffce42591",
   "metadata": {},
   "outputs": [
    {
     "data": {
      "text/plain": [
       "Counter({'hadoop': 2,\n",
       "         'big': 3,\n",
       "         'data': 3,\n",
       "         'hbase': 2,\n",
       "         'java': 3,\n",
       "         'spark': 1,\n",
       "         'storm': 1,\n",
       "         'cassandra': 2,\n",
       "         'nosql': 1,\n",
       "         'mongodb': 1,\n",
       "         'postgres': 1,\n",
       "         'python': 3,\n",
       "         'scikit-learn': 2,\n",
       "         'scipy': 1,\n",
       "         'numpy': 1,\n",
       "         'statsmodels': 1,\n",
       "         'pandas': 1,\n",
       "         'r': 2,\n",
       "         'statistics': 2,\n",
       "         'regression': 2,\n",
       "         'probability': 2,\n",
       "         'machine': 2,\n",
       "         'learning': 3,\n",
       "         'decision': 1,\n",
       "         'trees': 1,\n",
       "         'libsvm': 1,\n",
       "         'c++': 1,\n",
       "         'haskell': 1,\n",
       "         'programming': 1,\n",
       "         'languages': 1,\n",
       "         'mathematics': 1,\n",
       "         'theory': 1,\n",
       "         'mahout': 1,\n",
       "         'neural': 2,\n",
       "         'networks': 2,\n",
       "         'deep': 1,\n",
       "         'artificial': 1,\n",
       "         'intelligence': 1,\n",
       "         'mapreduce': 1})"
      ]
     },
     "execution_count": 40,
     "metadata": {},
     "output_type": "execute_result"
    }
   ],
   "source": [
    "words_and_counts = Counter(word\n",
    "                           for user, interest in interests\n",
    "                               for word in interest.lower().split()\n",
    "                          )\n",
    "\n",
    "words_and_counts"
   ]
  },
  {
   "cell_type": "code",
   "execution_count": 41,
   "id": "7c34fa67-5176-4556-a183-e628bb3d110f",
   "metadata": {},
   "outputs": [
    {
     "name": "stdout",
     "output_type": "stream",
     "text": [
      "big 3\n",
      "data 3\n",
      "java 3\n",
      "python 3\n",
      "learning 3\n",
      "hadoop 2\n",
      "hbase 2\n",
      "cassandra 2\n",
      "scikit-learn 2\n",
      "r 2\n",
      "statistics 2\n",
      "regression 2\n",
      "probability 2\n",
      "machine 2\n",
      "neural 2\n",
      "networks 2\n"
     ]
    }
   ],
   "source": [
    "# 두 번이상 등장하는 단어\n",
    "for word, count in words_and_counts.most_common():\n",
    "    if count > 1:\n",
    "        print(word, count)"
   ]
  }
 ],
 "metadata": {
  "kernelspec": {
   "display_name": "Python 3 (ipykernel)",
   "language": "python",
   "name": "python3"
  },
  "language_info": {
   "codemirror_mode": {
    "name": "ipython",
    "version": 3
   },
   "file_extension": ".py",
   "mimetype": "text/x-python",
   "name": "python",
   "nbconvert_exporter": "python",
   "pygments_lexer": "ipython3",
   "version": "3.8.12"
  }
 },
 "nbformat": 4,
 "nbformat_minor": 5
}
