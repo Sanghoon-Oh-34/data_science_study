{
  "nbformat": 4,
  "nbformat_minor": 0,
  "metadata": {
    "colab": {
      "name": "04_Linear algebra.ipynb",
      "provenance": []
    },
    "kernelspec": {
      "name": "python3",
      "display_name": "Python 3"
    },
    "language_info": {
      "name": "python"
    }
  },
  "cells": [
    {
      "cell_type": "markdown",
      "source": [
        "# 밑바닥부터 시작하는 데이터 과학\n",
        "데이터 분석을 위한 파이썬 프로그래밍과 수학통계 기초\n",
        "- - -"
      ],
      "metadata": {
        "id": "HqeT_tWsEr6g"
      }
    },
    {
      "cell_type": "markdown",
      "source": [
        "## 4장. 선형대수"
      ],
      "metadata": {
        "id": "rDFnILp-FI1Q"
      }
    },
    {
      "cell_type": "markdown",
      "source": [
        "### 4.1 벡터"
      ],
      "metadata": {
        "id": "j80t97eWJ-Zy"
      }
    },
    {
      "cell_type": "code",
      "source": [
        "# 벡터 덧셈 함수\n",
        "def vector_add(v, w):\n",
        "    return [v_i + v_w for v_i, v_w in zip(v, w)]\n",
        "\n",
        "vector_add([1, 2], [2, 1])"
      ],
      "metadata": {
        "colab": {
          "base_uri": "https://localhost:8080/"
        },
        "id": "G2_zOhS3J5p1",
        "outputId": "50e88f15-9897-48b0-85b4-e9ff3e302817"
      },
      "execution_count": 8,
      "outputs": [
        {
          "output_type": "execute_result",
          "data": {
            "text/plain": [
              "[3, 3]"
            ]
          },
          "metadata": {},
          "execution_count": 8
        }
      ]
    },
    {
      "cell_type": "code",
      "source": [
        "#  벡터 뺄셈 함수\n",
        "def vector_sub(v, w):\n",
        "    return [v_i - v_w for v_i, v_w in zip(v, w)]\n",
        "\n",
        "vector_sub([1, 2], [2, 1])"
      ],
      "metadata": {
        "colab": {
          "base_uri": "https://localhost:8080/"
        },
        "id": "19vcXRJZP_qQ",
        "outputId": "fad8e12d-f8c7-4de0-ad9e-0893c85e1f8f"
      },
      "execution_count": 9,
      "outputs": [
        {
          "output_type": "execute_result",
          "data": {
            "text/plain": [
              "[-1, 1]"
            ]
          },
          "metadata": {},
          "execution_count": 9
        }
      ]
    },
    {
      "cell_type": "code",
      "source": [
        "# 벡터와 스칼라 곱셈\n",
        "def scalar_multiply(c, v):\n",
        "    return [c * v_i for v_i in v]\n",
        "\n",
        "scalar_multiply(3, [1, 3])"
      ],
      "metadata": {
        "colab": {
          "base_uri": "https://localhost:8080/"
        },
        "id": "kqgPfiA8Qd0x",
        "outputId": "d63116f1-1ff9-438d-92a6-533376d0e6e4"
      },
      "execution_count": 10,
      "outputs": [
        {
          "output_type": "execute_result",
          "data": {
            "text/plain": [
              "[3, 9]"
            ]
          },
          "metadata": {},
          "execution_count": 10
        }
      ]
    },
    {
      "cell_type": "markdown",
      "source": [
        "### 4.2 행렬"
      ],
      "metadata": {
        "id": "ALF3JS6JLAxA"
      }
    },
    {
      "cell_type": "code",
      "source": [
        "# 2개의 행, 3개의 열\n",
        "A = [[1, 2, 3],\n",
        "     [4, 5, 6]]\n",
        "\n",
        "# 행렬의 형태를 구하는 함수\n",
        "def shape(A):\n",
        "    num_rows = len(A)\n",
        "    num_cols = len(A[0]) if A else 0\n",
        "    return num_rows, num_cols\n",
        "\n",
        "shape(A)"
      ],
      "metadata": {
        "colab": {
          "base_uri": "https://localhost:8080/"
        },
        "id": "FOIy32bYK0nt",
        "outputId": "a59e03b1-6a20-46ab-82a9-e3b00c495b91"
      },
      "execution_count": 13,
      "outputs": [
        {
          "output_type": "execute_result",
          "data": {
            "text/plain": [
              "(2, 3)"
            ]
          },
          "metadata": {},
          "execution_count": 13
        }
      ]
    }
  ]
}