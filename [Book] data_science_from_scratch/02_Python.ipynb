{
  "nbformat": 4,
  "nbformat_minor": 0,
  "metadata": {
    "colab": {
      "name": "02_Python.ipynb",
      "provenance": []
    },
    "kernelspec": {
      "name": "python3",
      "display_name": "Python 3"
    },
    "language_info": {
      "name": "python"
    }
  },
  "cells": [
    {
      "cell_type": "markdown",
      "source": [
        "# 밑바닥부터 시작하는 데이터 과학\n",
        "데이터 분석을 위한 파이썬 프로그래밍과 수학통계 기초\n",
        "- - -"
      ],
      "metadata": {
        "id": "HqeT_tWsEr6g"
      }
    },
    {
      "cell_type": "markdown",
      "source": [
        "## 2장. 파이썬 속성 강좌"
      ],
      "metadata": {
        "id": "rDFnILp-FI1Q"
      }
    },
    {
      "cell_type": "markdown",
      "source": [
        "### 2.1.2 The Zen of Python\n",
        "> 무엇을 하든 그것을 할 수 있는 하나의, 가급적이면 단 하나의 당연한 방법이 존재해야 한다."
      ],
      "metadata": {
        "id": "rN_NKtinFaCN"
      }
    },
    {
      "cell_type": "code",
      "execution_count": 1,
      "metadata": {
        "colab": {
          "base_uri": "https://localhost:8080/"
        },
        "id": "tlQYSaEIEg2y",
        "outputId": "59548a95-0b92-48c7-b5de-1f4c19123b21"
      },
      "outputs": [
        {
          "output_type": "stream",
          "name": "stdout",
          "text": [
            "The Zen of Python, by Tim Peters\n",
            "\n",
            "Beautiful is better than ugly.\n",
            "Explicit is better than implicit.\n",
            "Simple is better than complex.\n",
            "Complex is better than complicated.\n",
            "Flat is better than nested.\n",
            "Sparse is better than dense.\n",
            "Readability counts.\n",
            "Special cases aren't special enough to break the rules.\n",
            "Although practicality beats purity.\n",
            "Errors should never pass silently.\n",
            "Unless explicitly silenced.\n",
            "In the face of ambiguity, refuse the temptation to guess.\n",
            "There should be one-- and preferably only one --obvious way to do it.\n",
            "Although that way may not be obvious at first unless you're Dutch.\n",
            "Now is better than never.\n",
            "Although never is often better than *right* now.\n",
            "If the implementation is hard to explain, it's a bad idea.\n",
            "If the implementation is easy to explain, it may be a good idea.\n",
            "Namespaces are one honking great idea -- let's do more of those!\n"
          ]
        }
      ],
      "source": [
        "import this"
      ]
    },
    {
      "cell_type": "markdown",
      "source": [
        "### 2.1.3 들여쓰기\n",
        "- 파이썬은 코드의 단락을 구분하는데 들여쓰기를 사용한다.(기본 4칸)"
      ],
      "metadata": {
        "id": "TA68vORwFvNU"
      }
    },
    {
      "cell_type": "code",
      "source": [
        "for i in [1, 2, 3, 4, 5]:\n",
        "    print(i)\n",
        "    for j in [1, 2, 3, 4, 5]:\n",
        "        print(j)\n",
        "        print(i + j)\n",
        "    print(i)\n",
        "print('done loopinng')"
      ],
      "metadata": {
        "id": "A9raP6ipFGLg"
      },
      "execution_count": null,
      "outputs": []
    },
    {
      "cell_type": "code",
      "source": [
        "# 역슬래시: 코드가 다음 줄로 이어지는 것을 명시\n",
        "two_plus_three = 2 + \\\n",
        "                3\n",
        "print(two_plus_three)"
      ],
      "metadata": {
        "colab": {
          "base_uri": "https://localhost:8080/"
        },
        "id": "jyeDiJG2GUZ2",
        "outputId": "812952e5-02c8-470a-cb32-7757b514cfe4"
      },
      "execution_count": 2,
      "outputs": [
        {
          "output_type": "stream",
          "name": "stdout",
          "text": [
            "5\n"
          ]
        }
      ]
    },
    {
      "cell_type": "markdown",
      "source": [
        "### 2.1.4 모듈\n",
        "- 제 3자 패키지(3rd party packages) 불러오기 및 사용\n"
      ],
      "metadata": {
        "id": "kGrRFB-6Gw6n"
      }
    },
    {
      "cell_type": "code",
      "source": [
        "# import 모듈이름\n",
        "import re\n",
        "import pandas\n",
        "import numpy\n",
        "\n",
        "# import 모듈이름 as 별칭\n",
        "import pandas as pd\n",
        "import numpy as np\n",
        "import matplotlib.pyplot as plt\n",
        "\n",
        "# 모듈에서 특정 기능만 사용하고 싶을 경우\n",
        "# from 모듈이름 import 메서드이름\n",
        "from collections import Counter, defaultdict"
      ],
      "metadata": {
        "id": "YimTPPyuGp4F"
      },
      "execution_count": null,
      "outputs": []
    },
    {
      "cell_type": "markdown",
      "source": [
        "### 2.1.6 함수\n",
        "- 0개 혹은 그 이상의 인자를 입력 받아 결과를 출력하는 규칙\n",
        "- 파이썬에서는 함수 정의 시 'def'를 사용한다"
      ],
      "metadata": {
        "id": "Z5ilmoQ_IAog"
      }
    },
    {
      "cell_type": "code",
      "source": [
        "# 기본 함수 만들기\n",
        "def double(x):\n",
        "    return x * 2\n",
        "\n",
        "# 함수 인자에 기본값 명시 가능\n",
        "def double(x=3):\n",
        "    return x * 2\n",
        "\n",
        "print('함수 인자가 없을때: ', double())\n",
        "print('함수 인자가 있을때: ', double(2))"
      ],
      "metadata": {
        "colab": {
          "base_uri": "https://localhost:8080/"
        },
        "id": "yNR0VVVLH_LI",
        "outputId": "af5164bf-8881-408f-e3ea-f2cf1ac979a3"
      },
      "execution_count": 6,
      "outputs": [
        {
          "output_type": "stream",
          "name": "stdout",
          "text": [
            "함수 인자가 없을때:  6\n",
            "함수 인자가 있을때:  4\n"
          ]
        }
      ]
    },
    {
      "cell_type": "markdown",
      "source": [
        "### 2.1.7 문자열\n",
        "- 문자열은 작은 따옴표('), 큰 따옴표(\")로 묶어 나타낸다.\n"
      ],
      "metadata": {
        "id": "IBKeVvehJu8O"
      }
    },
    {
      "cell_type": "code",
      "source": [
        "# 특정 특수문자(ex. 역슬래시 '\\')를 보이는 문자로 출력하고 싶을 경우\n",
        "string = r'\\t'  # 문자열 앞에 r을 붙인다. (r은 raw string이라는 의미)\n",
        "print(string)"
      ],
      "metadata": {
        "colab": {
          "base_uri": "https://localhost:8080/"
        },
        "id": "3_4Tqko-IsuE",
        "outputId": "ee4a0b76-86ef-4b21-9ec8-40c753dd3a87"
      },
      "execution_count": 8,
      "outputs": [
        {
          "output_type": "stream",
          "name": "stdout",
          "text": [
            "\\t\n"
          ]
        }
      ]
    },
    {
      "cell_type": "code",
      "source": [
        "# 하나의 문자열을 여러 줄로 표현할 때, 세 개의 따옴표 사용\n",
        "context = '''오늘은 삼겹살을 먹어야하나,\n",
        "항정상을 먹어야하나\n",
        "정말 고민이 되는 저녁이다'''\n",
        "print(context)"
      ],
      "metadata": {
        "colab": {
          "base_uri": "https://localhost:8080/"
        },
        "id": "FnxmDQGeKIYv",
        "outputId": "40b5a138-dc70-45bf-fe42-bce04f2af7f5"
      },
      "execution_count": 9,
      "outputs": [
        {
          "output_type": "stream",
          "name": "stdout",
          "text": [
            "오늘은 삼겹살을 먹어야하나,\n",
            "항정상을 먹어야하나\n",
            "정말 고민이 되는 저녁이다\n"
          ]
        }
      ]
    },
    {
      "cell_type": "markdown",
      "source": [
        "### 2.1.8 list\n",
        "- 파이썬의 가장 기본적인 데이터 구조\n",
        "- 배열(array)과 유사하지만, list 기능이 더 풍부하다"
      ],
      "metadata": {
        "id": "oj3EUBAwYCrY"
      }
    },
    {
      "cell_type": "code",
      "source": [
        "# 리스트 슬라이싱\n",
        "x = [1, 2, 3, 4, 5]\n",
        "\n",
        "x[0]    # 1\n",
        "x[1:3]  # [2, 3]\n",
        "x[-1]   # 5\n",
        "x[::-1] # [5, 4, 3, 2, 1] 역순"
      ],
      "metadata": {
        "id": "ZN7ZYLg8K7Lx"
      },
      "execution_count": null,
      "outputs": []
    },
    {
      "cell_type": "code",
      "source": [
        "# 리스트 확장\n",
        "x = [1, 2, 3]\n",
        "x.extend([4, 5, 6]) # [1, 2, 3, 4, 5, 6]\n",
        "\n",
        "# 리스트 더하기\n",
        "x = [1, 2, 3]\n",
        "y = x + [4, 5, 6]   # y = [1, 2, 3, 4, 5, 6]"
      ],
      "metadata": {
        "id": "TbKKrzOyZBOw"
      },
      "execution_count": null,
      "outputs": []
    },
    {
      "cell_type": "code",
      "source": [
        "# 리스트에 하나씩 항목 추가\n",
        "x = [1, 2, 3]\n",
        "x.append(0) # [1, 2, 3, 0]"
      ],
      "metadata": {
        "id": "3i7Io8C6ZMqO"
      },
      "execution_count": null,
      "outputs": []
    },
    {
      "cell_type": "code",
      "source": [
        "# 리스트 변수 할당\n",
        "x, y = [1, 2]\n",
        "x   # 1\n",
        "y   # 2"
      ],
      "metadata": {
        "id": "aW6jEAkfZOjN"
      },
      "execution_count": null,
      "outputs": []
    },
    {
      "cell_type": "markdown",
      "source": [
        "### 2.1.10 dict\n",
        "- key와 value를 연결, 빠르게 검색 가능"
      ],
      "metadata": {
        "id": "KiZ10dSlbVuC"
      }
    },
    {
      "cell_type": "code",
      "source": [
        "# 가장 파이썬스럽게 dict를 만드는 방법\n",
        "empty_dict = {}"
      ],
      "metadata": {
        "id": "5154dzTrbn9w"
      },
      "execution_count": null,
      "outputs": []
    },
    {
      "cell_type": "code",
      "source": [
        "tweet = {\n",
        "    'user': 'joelgrus',\n",
        "    'text': 'Data Science is Awesome',\n",
        "    'retweet_count': 100,\n",
        "    'hashtags': ['#data', '#science', '#datascience', '#awesome', '#yolo']\n",
        "}"
      ],
      "metadata": {
        "id": "h79ME87Jb63u"
      },
      "execution_count": 14,
      "outputs": []
    },
    {
      "cell_type": "code",
      "source": [
        "# Keys()\n",
        "tweet.keys()"
      ],
      "metadata": {
        "colab": {
          "base_uri": "https://localhost:8080/"
        },
        "id": "qw8TnaqmcZi0",
        "outputId": "f5a640f3-0ec1-4f55-89fa-4dd77f820d06"
      },
      "execution_count": 15,
      "outputs": [
        {
          "output_type": "execute_result",
          "data": {
            "text/plain": [
              "dict_keys(['user', 'text', 'retweet_count', 'hashtags'])"
            ]
          },
          "metadata": {},
          "execution_count": 15
        }
      ]
    },
    {
      "cell_type": "code",
      "source": [
        "# values()\n",
        "tweet.values()"
      ],
      "metadata": {
        "colab": {
          "base_uri": "https://localhost:8080/"
        },
        "id": "uRbRkrKEciuS",
        "outputId": "4adda5e3-4fd8-4c0e-8092-1cd59df5816f"
      },
      "execution_count": 16,
      "outputs": [
        {
          "output_type": "execute_result",
          "data": {
            "text/plain": [
              "dict_values(['joelgrus', 'Data Science is Awesome', 100, ['#data', '#science', '#datascience', '#awesome', '#yolo']])"
            ]
          },
          "metadata": {},
          "execution_count": 16
        }
      ]
    },
    {
      "cell_type": "code",
      "source": [
        "# items()\n",
        "tweet.items()"
      ],
      "metadata": {
        "colab": {
          "base_uri": "https://localhost:8080/"
        },
        "id": "Mho-CfX4cnSg",
        "outputId": "d1170e99-3126-4006-90a3-b6e5f2f04b92"
      },
      "execution_count": 17,
      "outputs": [
        {
          "output_type": "execute_result",
          "data": {
            "text/plain": [
              "dict_items([('user', 'joelgrus'), ('text', 'Data Science is Awesome'), ('retweet_count', 100), ('hashtags', ['#data', '#science', '#datascience', '#awesome', '#yolo'])])"
            ]
          },
          "metadata": {},
          "execution_count": 17
        }
      ]
    },
    {
      "cell_type": "code",
      "source": [
        "# in을 활용한 key 검색\n",
        "'user' in tweet"
      ],
      "metadata": {
        "colab": {
          "base_uri": "https://localhost:8080/"
        },
        "id": "BjILVB4icqzZ",
        "outputId": "09ac2144-f6be-47b7-c755-b0d27037a4cc"
      },
      "execution_count": 18,
      "outputs": [
        {
          "output_type": "execute_result",
          "data": {
            "text/plain": [
              "True"
            ]
          },
          "metadata": {},
          "execution_count": 18
        }
      ]
    },
    {
      "cell_type": "markdown",
      "source": [
        "- defaultdict"
      ],
      "metadata": {
        "id": "QjBSFAXEdM1F"
      }
    },
    {
      "cell_type": "code",
      "source": [
        "from collections import defaultdict\n",
        "\n",
        "document = '간장공장 공장장은'\n",
        "\n",
        "word_counts = defaultdict(int)\n",
        "for word in document:\n",
        "    word_counts[word] += 1\n",
        "\n",
        "word_counts"
      ],
      "metadata": {
        "colab": {
          "base_uri": "https://localhost:8080/"
        },
        "id": "eL1a8a-mc0dZ",
        "outputId": "f0da3e1d-0327-4990-ec8f-b756447d35cd"
      },
      "execution_count": 20,
      "outputs": [
        {
          "output_type": "execute_result",
          "data": {
            "text/plain": [
              "defaultdict(int, {' ': 1, '간': 1, '공': 2, '은': 1, '장': 4})"
            ]
          },
          "metadata": {},
          "execution_count": 20
        }
      ]
    },
    {
      "cell_type": "markdown",
      "source": [
        "- Counter"
      ],
      "metadata": {
        "id": "_7vNQvBqeF0W"
      }
    },
    {
      "cell_type": "code",
      "source": [
        "from collections import Counter\n",
        "\n",
        "document = '간장공장 공장장은'\n",
        "\n",
        "word_counts = Counter(document)\n",
        "word_counts"
      ],
      "metadata": {
        "colab": {
          "base_uri": "https://localhost:8080/"
        },
        "id": "iR86OFs0dx02",
        "outputId": "625b2843-1852-4e43-ce51-1430f576edf4"
      },
      "execution_count": 21,
      "outputs": [
        {
          "output_type": "execute_result",
          "data": {
            "text/plain": [
              "Counter({' ': 1, '간': 1, '공': 2, '은': 1, '장': 4})"
            ]
          },
          "metadata": {},
          "execution_count": 21
        }
      ]
    },
    {
      "cell_type": "code",
      "source": [
        "word_counts.most_common()"
      ],
      "metadata": {
        "colab": {
          "base_uri": "https://localhost:8080/"
        },
        "id": "js4F5KaBeTKt",
        "outputId": "1db62dad-9170-47fc-9aa9-e7b2b4a7e64d"
      },
      "execution_count": 22,
      "outputs": [
        {
          "output_type": "execute_result",
          "data": {
            "text/plain": [
              "[('장', 4), ('공', 2), ('간', 1), (' ', 1), ('은', 1)]"
            ]
          },
          "metadata": {},
          "execution_count": 22
        }
      ]
    },
    {
      "cell_type": "markdown",
      "source": [
        "### 2.2.1. 정렬"
      ],
      "metadata": {
        "id": "vfLYQHoTevXF"
      }
    },
    {
      "cell_type": "code",
      "source": [
        "# sorted 메서드\n",
        "x = [4, 1, 2, 3]\n",
        "y = sorted(x)\n",
        "print(y)"
      ],
      "metadata": {
        "colab": {
          "base_uri": "https://localhost:8080/"
        },
        "id": "2WKBfjr-eafy",
        "outputId": "5359c37f-b000-4872-bb56-ff5551e215ea"
      },
      "execution_count": 24,
      "outputs": [
        {
          "output_type": "stream",
          "name": "stdout",
          "text": [
            "[1, 2, 3, 4]\n"
          ]
        }
      ]
    },
    {
      "cell_type": "code",
      "source": [
        "# sort 메서드\n",
        "x.sort()\n",
        "print(x)"
      ],
      "metadata": {
        "colab": {
          "base_uri": "https://localhost:8080/"
        },
        "id": "cHBNtNw_e9Qx",
        "outputId": "769908f8-938b-43d8-965e-c9e9f8eeea8c"
      },
      "execution_count": 26,
      "outputs": [
        {
          "output_type": "stream",
          "name": "stdout",
          "text": [
            "[1, 2, 3, 4]\n"
          ]
        }
      ]
    },
    {
      "cell_type": "markdown",
      "source": [
        "### 2.2.2 List comprehension"
      ],
      "metadata": {
        "id": "JdXrHZAzfJD_"
      }
    },
    {
      "cell_type": "code",
      "source": [
        "even_numbers = [x for x in range(5) if x % 2 == 0]\n",
        "print(even_numbers)"
      ],
      "metadata": {
        "colab": {
          "base_uri": "https://localhost:8080/"
        },
        "id": "HX82o_ppfCKo",
        "outputId": "a1dcc2dd-0f9f-4788-e40a-51105294f4b6"
      },
      "execution_count": 27,
      "outputs": [
        {
          "output_type": "stream",
          "name": "stdout",
          "text": [
            "[0, 2, 4]\n"
          ]
        }
      ]
    },
    {
      "cell_type": "code",
      "source": [
        "squares = [x * x for x in range(5)]\n",
        "print(squares)"
      ],
      "metadata": {
        "colab": {
          "base_uri": "https://localhost:8080/"
        },
        "id": "D5aCBJ-qfVyS",
        "outputId": "8bca5fce-f2fa-4c6d-96d8-35378f5700a8"
      },
      "execution_count": 28,
      "outputs": [
        {
          "output_type": "stream",
          "name": "stdout",
          "text": [
            "[0, 1, 4, 9, 16]\n"
          ]
        }
      ]
    },
    {
      "cell_type": "code",
      "source": [
        "even_squares = [x * x for x in even_numbers]\n",
        "print(even_squares)"
      ],
      "metadata": {
        "colab": {
          "base_uri": "https://localhost:8080/"
        },
        "id": "UECZqk8Qfcci",
        "outputId": "295f1413-31eb-4c10-e681-e22ba435ad38"
      },
      "execution_count": 29,
      "outputs": [
        {
          "output_type": "stream",
          "name": "stdout",
          "text": [
            "[0, 4, 16]\n"
          ]
        }
      ]
    },
    {
      "cell_type": "markdown",
      "source": [
        "### 2.2.4 난수 생성"
      ],
      "metadata": {
        "id": "M8pdA1FYf2BA"
      }
    },
    {
      "cell_type": "code",
      "source": [
        "import random\n",
        "\n",
        "# 0 ~ 1 사이 난수 생성\n",
        "random.random()"
      ],
      "metadata": {
        "colab": {
          "base_uri": "https://localhost:8080/"
        },
        "id": "-Wn4_54RfluN",
        "outputId": "baacca24-ca24-4d79-c9d6-684ef28eafe7"
      },
      "execution_count": 30,
      "outputs": [
        {
          "output_type": "execute_result",
          "data": {
            "text/plain": [
              "0.6275381265865485"
            ]
          },
          "metadata": {},
          "execution_count": 30
        }
      ]
    },
    {
      "cell_type": "code",
      "source": [
        "# 동일한 난수 고정\n",
        "random.seed(10)\n",
        "print(random.random())\n",
        "random.seed(10)\n",
        "print(random.random())"
      ],
      "metadata": {
        "colab": {
          "base_uri": "https://localhost:8080/"
        },
        "id": "mh-tdogxf96F",
        "outputId": "5697ffe4-030f-4678-9175-0edc3896b044"
      },
      "execution_count": 32,
      "outputs": [
        {
          "output_type": "stream",
          "name": "stdout",
          "text": [
            "0.5714025946899135\n",
            "0.5714025946899135\n"
          ]
        }
      ]
    },
    {
      "cell_type": "code",
      "source": [
        "# 구간 지정 난수 생성\n",
        "random.randrange(10)"
      ],
      "metadata": {
        "colab": {
          "base_uri": "https://localhost:8080/"
        },
        "id": "4-1U4YNqgMzQ",
        "outputId": "9fa5dae1-05e0-4d69-9351-797df0cb5352"
      },
      "execution_count": 33,
      "outputs": [
        {
          "output_type": "execute_result",
          "data": {
            "text/plain": [
              "6"
            ]
          },
          "metadata": {},
          "execution_count": 33
        }
      ]
    },
    {
      "cell_type": "code",
      "source": [
        "random.randrange(3, 6)"
      ],
      "metadata": {
        "colab": {
          "base_uri": "https://localhost:8080/"
        },
        "id": "kW8XsfLzgZ9j",
        "outputId": "12bdec1e-8d66-49ad-eaa4-b02cccc28205"
      },
      "execution_count": 34,
      "outputs": [
        {
          "output_type": "execute_result",
          "data": {
            "text/plain": [
              "4"
            ]
          },
          "metadata": {},
          "execution_count": 34
        }
      ]
    },
    {
      "cell_type": "markdown",
      "source": [
        "### 2.2.8 enumerate\n",
        "- list를 반복하면서 list의 항목과 인덱스가 모두 필요할 때"
      ],
      "metadata": {
        "id": "VtAq8LZ922FQ"
      }
    },
    {
      "cell_type": "code",
      "source": [
        "document = ['하나', '둘', '셋', '넷', '다섯']\n",
        "\n",
        "for i, document in enumerate(document):\n",
        "    print(i, document)"
      ],
      "metadata": {
        "colab": {
          "base_uri": "https://localhost:8080/"
        },
        "id": "UqO9cIc5givv",
        "outputId": "5594790e-0efa-4612-c115-4d3dac18ddd6"
      },
      "execution_count": 35,
      "outputs": [
        {
          "output_type": "stream",
          "name": "stdout",
          "text": [
            "0 하나\n",
            "1 둘\n",
            "2 셋\n",
            "3 넷\n",
            "4 다섯\n"
          ]
        }
      ]
    },
    {
      "cell_type": "markdown",
      "source": [
        "### 2.2.9 zip과 argument unpacking\n",
        "- 두 개 이상의 list를 서로 묶어 주고 싶을 때"
      ],
      "metadata": {
        "id": "QrYFAQio3el5"
      }
    },
    {
      "cell_type": "code",
      "source": [
        "list1 = ['a', 'b', 'c']\n",
        "list2 = [1, 2, 3]\n",
        "list3 = zip(list1, list2)\n",
        "\n",
        "for i in list3:\n",
        "    print(i)"
      ],
      "metadata": {
        "colab": {
          "base_uri": "https://localhost:8080/"
        },
        "id": "_UmlJEqk3WHj",
        "outputId": "9eedd6e1-63ce-4604-9632-843a0d812221"
      },
      "execution_count": 41,
      "outputs": [
        {
          "output_type": "stream",
          "name": "stdout",
          "text": [
            "('a', 1)\n",
            "('b', 2)\n",
            "('c', 3)\n"
          ]
        }
      ]
    },
    {
      "cell_type": "code",
      "source": [
        "# 해체 시\n",
        "pairs = [('a', 1), ('b', 2), ('c', 3)]\n",
        "letters, number = zip(*pairs)\n",
        "\n",
        "print(letters)\n",
        "print(number)"
      ],
      "metadata": {
        "colab": {
          "base_uri": "https://localhost:8080/"
        },
        "id": "OFzQ9J1G3w16",
        "outputId": "2ac103e0-1f2a-48d1-adab-ee233120aff4"
      },
      "execution_count": 45,
      "outputs": [
        {
          "output_type": "stream",
          "name": "stdout",
          "text": [
            "('a', 'b', 'c')\n",
            "(1, 2, 3)\n"
          ]
        }
      ]
    }
  ]
}