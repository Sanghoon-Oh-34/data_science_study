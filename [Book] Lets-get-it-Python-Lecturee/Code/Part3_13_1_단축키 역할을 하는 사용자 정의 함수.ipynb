{
 "cells": [
  {
   "cell_type": "markdown",
   "metadata": {
    "id": "2PdwGRw9qgTZ"
   },
   "source": [
    "# **Let's get it - 파이썬 프로그래밍**\n",
    "---\n",
    "## **Part3**\n",
    "### 13.1 단축키 역할을 하는 사용자 정의 함수"
   ]
  },
  {
   "cell_type": "code",
   "execution_count": 1,
   "metadata": {},
   "outputs": [
    {
     "name": "stdout",
     "output_type": "stream",
     "text": [
      "hi\n",
      "My name is Python!!\n"
     ]
    }
   ],
   "source": [
    "def hi():\n",
    "    print('hi')\n",
    "    print('My name is Python!!')\n",
    "    \n",
    "hi()"
   ]
  },
  {
   "cell_type": "code",
   "execution_count": 2,
   "metadata": {
    "scrolled": false
   },
   "outputs": [
    {
     "name": "stdout",
     "output_type": "stream",
     "text": [
      "hi\n",
      "My name is Python!!\n",
      "hi\n",
      "My name is Python!!\n"
     ]
    }
   ],
   "source": [
    "hi()\n",
    "hi()"
   ]
  },
  {
   "cell_type": "code",
   "execution_count": 3,
   "metadata": {},
   "outputs": [],
   "source": [
    "def hi(name):\n",
    "    print('hi!')\n",
    "    print('My name is', name, '!')"
   ]
  },
  {
   "cell_type": "code",
   "execution_count": 4,
   "metadata": {},
   "outputs": [
    {
     "name": "stdout",
     "output_type": "stream",
     "text": [
      "hi!\n",
      "My name is dragon !\n"
     ]
    }
   ],
   "source": [
    "hi(name = 'dragon')"
   ]
  },
  {
   "cell_type": "code",
   "execution_count": 5,
   "metadata": {},
   "outputs": [
    {
     "name": "stdout",
     "output_type": "stream",
     "text": [
      "hi!\n",
      "My name is Python !\n"
     ]
    }
   ],
   "source": [
    "hi(name = 'Python')"
   ]
  },
  {
   "cell_type": "code",
   "execution_count": 6,
   "metadata": {},
   "outputs": [
    {
     "name": "stdout",
     "output_type": "stream",
     "text": [
      "hi!\n",
      "My name is 2020 !\n"
     ]
    }
   ],
   "source": [
    "hi(name = 2020)"
   ]
  },
  {
   "cell_type": "code",
   "execution_count": 7,
   "metadata": {},
   "outputs": [
    {
     "ename": "TypeError",
     "evalue": "hi() missing 1 required positional argument: 'name'",
     "output_type": "error",
     "traceback": [
      "\u001b[1;31m---------------------------------------------------------------------------\u001b[0m",
      "\u001b[1;31mTypeError\u001b[0m                                 Traceback (most recent call last)",
      "\u001b[1;32mC:\\Users\\SANGHO~1\\AppData\\Local\\Temp/ipykernel_2960/3176030377.py\u001b[0m in \u001b[0;36m<module>\u001b[1;34m\u001b[0m\n\u001b[1;32m----> 1\u001b[1;33m \u001b[0mhi\u001b[0m\u001b[1;33m(\u001b[0m\u001b[1;33m)\u001b[0m\u001b[1;33m\u001b[0m\u001b[1;33m\u001b[0m\u001b[0m\n\u001b[0m",
      "\u001b[1;31mTypeError\u001b[0m: hi() missing 1 required positional argument: 'name'"
     ]
    }
   ],
   "source": [
    "hi()"
   ]
  },
  {
   "cell_type": "code",
   "execution_count": 8,
   "metadata": {},
   "outputs": [
    {
     "name": "stdout",
     "output_type": "stream",
     "text": [
      "hi!\n",
      "My name is 고라니 and My job is programmer !\n"
     ]
    }
   ],
   "source": [
    "def hi2(name, job):\n",
    "    print('hi!')\n",
    "    print('My name is', name, 'and My job is', job, '!')\n",
    "\n",
    "hi2(name = '고라니', job = 'programmer')"
   ]
  },
  {
   "cell_type": "code",
   "execution_count": 9,
   "metadata": {},
   "outputs": [
    {
     "name": "stdout",
     "output_type": "stream",
     "text": [
      "hi!\n",
      "My name is 고라니 and My job is programmer !\n"
     ]
    }
   ],
   "source": [
    "hi2(job = 'programmer', name = '고라니')"
   ]
  },
  {
   "cell_type": "code",
   "execution_count": 10,
   "metadata": {},
   "outputs": [
    {
     "name": "stdout",
     "output_type": "stream",
     "text": [
      "hi!\n",
      "My name is 고라니 and My job is programmer !\n"
     ]
    }
   ],
   "source": [
    "hi2('고라니', 'programmer')"
   ]
  },
  {
   "cell_type": "code",
   "execution_count": 11,
   "metadata": {},
   "outputs": [
    {
     "ename": "TypeError",
     "evalue": "hi2() missing 1 required positional argument: 'job'",
     "output_type": "error",
     "traceback": [
      "\u001b[1;31m---------------------------------------------------------------------------\u001b[0m",
      "\u001b[1;31mTypeError\u001b[0m                                 Traceback (most recent call last)",
      "\u001b[1;32mC:\\Users\\SANGHO~1\\AppData\\Local\\Temp/ipykernel_2960/771114040.py\u001b[0m in \u001b[0;36m<module>\u001b[1;34m\u001b[0m\n\u001b[1;32m----> 1\u001b[1;33m \u001b[0mhi2\u001b[0m\u001b[1;33m(\u001b[0m\u001b[1;34m'고라니'\u001b[0m\u001b[1;33m)\u001b[0m\u001b[1;33m\u001b[0m\u001b[1;33m\u001b[0m\u001b[0m\n\u001b[0m",
      "\u001b[1;31mTypeError\u001b[0m: hi2() missing 1 required positional argument: 'job'"
     ]
    }
   ],
   "source": [
    "hi2('고라니')"
   ]
  },
  {
   "cell_type": "code",
   "execution_count": 12,
   "metadata": {},
   "outputs": [
    {
     "name": "stdout",
     "output_type": "stream",
     "text": [
      "hi!\n",
      "My name is A !\n",
      "hi!\n",
      "My name is B !\n",
      "hi!\n",
      "My name is C !\n"
     ]
    }
   ],
   "source": [
    "def hi(name = 'A'):\n",
    "    print('hi!')\n",
    "    print('My name is', name, '!')\n",
    "    \n",
    "hi()\n",
    "hi('B')\n",
    "hi(name = 'C')"
   ]
  },
  {
   "cell_type": "code",
   "execution_count": 13,
   "metadata": {},
   "outputs": [
    {
     "name": "stdout",
     "output_type": "stream",
     "text": [
      "hi\n",
      "My name is None !\n"
     ]
    }
   ],
   "source": [
    "def hi(name = None):\n",
    "    print('hi')\n",
    "    print('My name is', name, '!')\n",
    "    \n",
    "hi()"
   ]
  },
  {
   "cell_type": "code",
   "execution_count": 14,
   "metadata": {},
   "outputs": [],
   "source": [
    "def plus(num1, num2):\n",
    "    result = num1 + num2\n",
    "    \n",
    "plus(483, 291)"
   ]
  },
  {
   "cell_type": "code",
   "execution_count": 15,
   "metadata": {},
   "outputs": [
    {
     "name": "stdout",
     "output_type": "stream",
     "text": [
      "None\n"
     ]
    }
   ],
   "source": [
    "print(plus(483, 291))"
   ]
  },
  {
   "cell_type": "code",
   "execution_count": 16,
   "metadata": {},
   "outputs": [
    {
     "data": {
      "text/plain": [
       "774"
      ]
     },
     "execution_count": 16,
     "metadata": {},
     "output_type": "execute_result"
    }
   ],
   "source": [
    "def plus(num1, num2):\n",
    "    result = num1 + num2\n",
    "    return result\n",
    "\n",
    "plus(483, 291)"
   ]
  },
  {
   "cell_type": "code",
   "execution_count": 17,
   "metadata": {},
   "outputs": [
    {
     "name": "stdout",
     "output_type": "stream",
     "text": [
      "첫 번째 숫자 : 379\n",
      "두 번째 숫자 : 184\n",
      "두 수의 합 : 563\n"
     ]
    }
   ],
   "source": [
    "a, b = int(input('첫 번째 숫자 : ')), int(input('두 번째 숫자 : '))\n",
    "sum_ab = plus(a, b)\n",
    "print('두 수의 합 :', sum_ab)"
   ]
  },
  {
   "cell_type": "code",
   "execution_count": 18,
   "metadata": {},
   "outputs": [
    {
     "name": "stdout",
     "output_type": "stream",
     "text": [
      "구구단을 외자! 구구단을 외자!\n",
      "5x5?25\n",
      "5x4?20\n",
      "8x9?72\n",
      "4x8?30\n",
      "땡! 정답은 32\n"
     ]
    }
   ],
   "source": [
    "import random\n",
    "\n",
    "def gugudan(num1, num2):\n",
    "    answer = int(input(str(num1) + 'x' + str(num2) + '?'))\n",
    "    \n",
    "    if answer == num1 * num2:\n",
    "        return 0\n",
    "    else:\n",
    "        print('땡! 정답은', num1 * num2)\n",
    "        return -1\n",
    "    \n",
    "print('구구단을 외자! 구구단을 외자!')\n",
    "for i in range(20):\n",
    "    a, b = random.randint(2, 9), random.randint(1, 9)\n",
    "    if gugudan(a, b) != 0:\n",
    "        break"
   ]
  }
 ],
 "metadata": {
  "colab": {
   "collapsed_sections": [],
   "name": "Part2_11_핫플레이스_인구_분석.ipynb",
   "provenance": []
  },
  "kernelspec": {
   "display_name": "Python 3 (ipykernel)",
   "language": "python",
   "name": "python3"
  },
  "language_info": {
   "codemirror_mode": {
    "name": "ipython",
    "version": 3
   },
   "file_extension": ".py",
   "mimetype": "text/x-python",
   "name": "python",
   "nbconvert_exporter": "python",
   "pygments_lexer": "ipython3",
   "version": "3.8.12"
  }
 },
 "nbformat": 4,
 "nbformat_minor": 1
}
